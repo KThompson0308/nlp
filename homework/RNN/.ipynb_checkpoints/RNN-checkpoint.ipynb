{
 "cells": [
  {
   "cell_type": "code",
   "execution_count": 1,
   "metadata": {},
   "outputs": [],
   "source": [
    "import numpy as np\n",
    "from tensorflow.keras import Sequential\n",
    "from tensorflow.keras.layers import Embedding, Dense\n",
    "from tensorflow.keras.layers import SimpleRNN as RNN"
   ]
  },
  {
   "cell_type": "code",
   "execution_count": 64,
   "metadata": {},
   "outputs": [],
   "source": [
    "vocab_size = 3576  # Number of individual tokens plus 1\n",
    "embedding_vector_length = 80\n",
    "wordmax = 80"
   ]
  },
  {
   "cell_type": "code",
   "execution_count": 73,
   "metadata": {},
   "outputs": [],
   "source": [
    "from copy import deepcopy\n",
    "from sklearn.model_selection import train_test_split\n",
    "from collections import OrderedDict\n",
    "\n",
    "# Preprocess Data\n",
    "def preprocess_data():\n",
    "    text = np.genfromtxt('sentiment_labelled_sentences/amazon_cells_labelled.txt', dtype='str', delimiter='\\t')\n",
    "    target = np.ndarray.astype(np.array([row[1] for row in text]), np.float)\n",
    "    features = np.array([row[0] for row in text])\n",
    "    wordmap = create_wordmap(features)\n",
    "    encoded_features = encode_text(features, wordmap)\n",
    "    return train_test_split(encoded_features, target, test_size=0.33, random_state=2910)\n",
    "\n",
    "\n",
    "def encode_text(corpus, wordmap):\n",
    "    tmp_corpus = deepcopy(corpus).tolist()\n",
    "    results = list()\n",
    "    for idx in range(len(tmp_corpus)):\n",
    "        tmp_corpus[idx] = space_punctuation(tmp_corpus[idx])\n",
    "        results.append(tmp_corpus[idx])\n",
    "    \n",
    "    # Adds spaces to each review to ensure consistent number of columns across rows\n",
    "    results = fill_matrix(results,wordmap)\n",
    "    return results\n",
    "\n",
    "\n",
    "def decode_text(numerical_output, wordmap):\n",
    "    tmp_output = deepcopy(numerical_output)\n",
    "    reverse_wordmap = {v:k for k,v in wordmap.items()}\n",
    "    for idx, number in enumerate(tmp_output):\n",
    "        tmp_output[idx] = reverse_wordmap[number]\n",
    "\n",
    "\n",
    "def create_wordmap(text):\n",
    "    tmp = space_punctuation(\" \".join(text))\n",
    "    tmp_set = set(tmp)\n",
    "    \n",
    "    #Reserve Zero For Spaces \n",
    "    wordmap = {idx+1:word for idx,word in enumerate(tmp_set)}\n",
    "    reverse_wordmap = {word:idx for idx,word in wordmap.items()}\n",
    "    reverse_wordmap[\" \"] = 0\n",
    "    \n",
    "    return reverse_wordmap\n",
    "\n",
    "\n",
    "def fill_matrix(datalist, wordmap):\n",
    "    tmp = np.zeros([len(datalist),len(max(datalist,key = lambda x: len(x)))])\n",
    "    for i,j in enumerate(datalist):\n",
    "        for idx in range(len(j)):\n",
    "            j[idx] = wordmap[j[idx]]\n",
    "        tmp[i][0:len(j)] = j\n",
    "    return tmp\n",
    "\n",
    "\n",
    "def space_punctuation(text):\n",
    "    return text.replace(\",\", \" , \").replace(\"!\", \" ! \").replace(\"?\", \" ? \").replace(\".\", \" . \").split()\n",
    "\n",
    "X_train, X_test, y_train, y_test = preprocess_data()\n"
   ]
  },
  {
   "cell_type": "code",
   "execution_count": 74,
   "metadata": {},
   "outputs": [
    {
     "data": {
      "text/plain": [
       "(669, 34)"
      ]
     },
     "execution_count": 74,
     "metadata": {},
     "output_type": "execute_result"
    }
   ],
   "source": [
    "X_train.shape"
   ]
  },
  {
   "cell_type": "code",
   "execution_count": 83,
   "metadata": {},
   "outputs": [],
   "source": [
    "# Vanilla RNN Network\n",
    "vanilla_rnn = Sequential()\n",
    "vanilla_rnn.add(Embedding(vocab_size, embedding_vector_length, input_length=wordmax))\n",
    "vanilla_rnn.add(RNN(100))\n",
    "vanilla_rnn.add(Dense(1, activation='sigmoid'))\n",
    "vanilla_rnn.compile(loss='binary_crossentropy', optimizer='adam', metrics=['accuracy'])"
   ]
  },
  {
   "cell_type": "code",
   "execution_count": 85,
   "metadata": {},
   "outputs": [
    {
     "name": "stdout",
     "output_type": "stream",
     "text": [
      "Epoch 1/10\n",
      "3/3 [==============================] - 0s 17ms/step - loss: 0.0055 - accuracy: 1.0000 - val_loss: 0.9358 - val_accuracy: 0.7273\n",
      "Epoch 2/10\n",
      "3/3 [==============================] - 0s 18ms/step - loss: 0.0040 - accuracy: 1.0000 - val_loss: 0.9755 - val_accuracy: 0.7152\n",
      "Epoch 3/10\n",
      "3/3 [==============================] - 0s 17ms/step - loss: 0.0030 - accuracy: 1.0000 - val_loss: 1.0128 - val_accuracy: 0.7030\n",
      "Epoch 4/10\n",
      "3/3 [==============================] - 0s 18ms/step - loss: 0.0024 - accuracy: 1.0000 - val_loss: 1.0438 - val_accuracy: 0.7121\n",
      "Epoch 5/10\n",
      "3/3 [==============================] - 0s 19ms/step - loss: 0.0019 - accuracy: 1.0000 - val_loss: 1.0723 - val_accuracy: 0.7182\n",
      "Epoch 6/10\n",
      "3/3 [==============================] - 0s 19ms/step - loss: 0.0017 - accuracy: 1.0000 - val_loss: 1.0968 - val_accuracy: 0.7242\n",
      "Epoch 7/10\n",
      "3/3 [==============================] - 0s 17ms/step - loss: 0.0015 - accuracy: 1.0000 - val_loss: 1.1178 - val_accuracy: 0.7212\n",
      "Epoch 8/10\n",
      "3/3 [==============================] - 0s 19ms/step - loss: 0.0013 - accuracy: 1.0000 - val_loss: 1.1347 - val_accuracy: 0.7152\n",
      "Epoch 9/10\n",
      "3/3 [==============================] - 0s 18ms/step - loss: 0.0012 - accuracy: 1.0000 - val_loss: 1.1477 - val_accuracy: 0.7121\n",
      "Epoch 10/10\n",
      "3/3 [==============================] - 0s 19ms/step - loss: 0.0011 - accuracy: 1.0000 - val_loss: 1.1578 - val_accuracy: 0.7182\n"
     ]
    }
   ],
   "source": [
    "history = vanilla_rnn.fit(X_train, y_train, validation_data=(X_test, y_test), epochs=20, batch_size=256)"
   ]
  },
  {
   "cell_type": "code",
   "execution_count": 86,
   "metadata": {},
   "outputs": [
    {
     "name": "stdout",
     "output_type": "stream",
     "text": [
      "Test accuracy: 0.7181817889213562\n"
     ]
    }
   ],
   "source": [
    "scores = vanilla_rnn.evaluate(X_test, y_test, verbose=0)\n",
    "print('Test accuracy:', scores[1])"
   ]
  },
  {
   "cell_type": "code",
   "execution_count": 108,
   "metadata": {},
   "outputs": [],
   "source": [
    "# LSTM Network\n",
    "from tensorflow.keras.layers import LSTM\n",
    "\n",
    "lstm = Sequential()\n",
    "lstm.add(Embedding(vocab_size, embedding_vector_length, input_length=wordmax))\n",
    "lstm.add(LSTM(100))\n",
    "lstm.add(Dense(1, activation='sigmoid'))\n",
    "lstm.compile(loss='binary_crossentropy', optimizer='adam', metrics=['accuracy'])"
   ]
  },
  {
   "cell_type": "code",
   "execution_count": 109,
   "metadata": {},
   "outputs": [
    {
     "name": "stdout",
     "output_type": "stream",
     "text": [
      "Epoch 1/20\n",
      "WARNING:tensorflow:Model was constructed with shape (None, 80) for input Tensor(\"embedding_27_input:0\", shape=(None, 80), dtype=float32), but it was called on an input with incompatible shape (None, 34).\n",
      "WARNING:tensorflow:Model was constructed with shape (None, 80) for input Tensor(\"embedding_27_input:0\", shape=(None, 80), dtype=float32), but it was called on an input with incompatible shape (None, 34).\n",
      "3/3 [==============================] - ETA: 0s - loss: 0.6915 - accuracy: 0.5321WARNING:tensorflow:Model was constructed with shape (None, 80) for input Tensor(\"embedding_27_input:0\", shape=(None, 80), dtype=float32), but it was called on an input with incompatible shape (None, 34).\n",
      "3/3 [==============================] - 0s 100ms/step - loss: 0.6915 - accuracy: 0.5321 - val_loss: 0.7058 - val_accuracy: 0.4333\n",
      "Epoch 2/20\n",
      "3/3 [==============================] - 0s 39ms/step - loss: 0.6907 - accuracy: 0.5321 - val_loss: 0.7106 - val_accuracy: 0.4333\n",
      "Epoch 3/20\n",
      "3/3 [==============================] - 0s 38ms/step - loss: 0.6915 - accuracy: 0.5321 - val_loss: 0.7123 - val_accuracy: 0.4333\n",
      "Epoch 4/20\n",
      "3/3 [==============================] - 0s 39ms/step - loss: 0.6908 - accuracy: 0.5321 - val_loss: 0.7081 - val_accuracy: 0.4333\n",
      "Epoch 5/20\n",
      "3/3 [==============================] - 0s 38ms/step - loss: 0.6899 - accuracy: 0.5321 - val_loss: 0.7032 - val_accuracy: 0.4333\n",
      "Epoch 6/20\n",
      "3/3 [==============================] - 0s 39ms/step - loss: 0.6897 - accuracy: 0.5336 - val_loss: 0.6996 - val_accuracy: 0.4333\n",
      "Epoch 7/20\n",
      "3/3 [==============================] - 0s 38ms/step - loss: 0.6889 - accuracy: 0.5471 - val_loss: 0.6998 - val_accuracy: 0.4394\n",
      "Epoch 8/20\n",
      "3/3 [==============================] - 0s 39ms/step - loss: 0.6845 - accuracy: 0.5725 - val_loss: 0.7032 - val_accuracy: 0.4576\n",
      "Epoch 9/20\n",
      "3/3 [==============================] - 0s 40ms/step - loss: 0.6643 - accuracy: 0.6233 - val_loss: 0.6821 - val_accuracy: 0.5576\n",
      "Epoch 10/20\n",
      "3/3 [==============================] - 0s 37ms/step - loss: 0.5773 - accuracy: 0.7294 - val_loss: 0.6014 - val_accuracy: 0.6758\n",
      "Epoch 11/20\n",
      "3/3 [==============================] - 0s 38ms/step - loss: 0.3901 - accuracy: 0.8356 - val_loss: 0.7008 - val_accuracy: 0.7000\n",
      "Epoch 12/20\n",
      "3/3 [==============================] - 0s 40ms/step - loss: 0.2760 - accuracy: 0.9058 - val_loss: 0.8419 - val_accuracy: 0.7303\n",
      "Epoch 13/20\n",
      "3/3 [==============================] - 0s 42ms/step - loss: 0.1645 - accuracy: 0.9492 - val_loss: 0.6854 - val_accuracy: 0.7424\n",
      "Epoch 14/20\n",
      "3/3 [==============================] - 0s 41ms/step - loss: 0.1007 - accuracy: 0.9746 - val_loss: 0.5922 - val_accuracy: 0.7636\n",
      "Epoch 15/20\n",
      "3/3 [==============================] - 0s 38ms/step - loss: 0.0610 - accuracy: 0.9940 - val_loss: 0.7122 - val_accuracy: 0.7485\n",
      "Epoch 16/20\n",
      "3/3 [==============================] - 0s 39ms/step - loss: 0.0337 - accuracy: 0.9925 - val_loss: 1.0024 - val_accuracy: 0.7394\n",
      "Epoch 17/20\n",
      "3/3 [==============================] - 0s 39ms/step - loss: 0.0205 - accuracy: 0.9955 - val_loss: 1.0941 - val_accuracy: 0.7455\n",
      "Epoch 18/20\n",
      "3/3 [==============================] - 0s 38ms/step - loss: 0.0063 - accuracy: 1.0000 - val_loss: 1.1656 - val_accuracy: 0.7606\n",
      "Epoch 19/20\n",
      "3/3 [==============================] - 0s 38ms/step - loss: 0.0044 - accuracy: 1.0000 - val_loss: 1.2623 - val_accuracy: 0.7545\n",
      "Epoch 20/20\n",
      "3/3 [==============================] - 0s 38ms/step - loss: 0.0030 - accuracy: 1.0000 - val_loss: 1.3562 - val_accuracy: 0.7545\n"
     ]
    }
   ],
   "source": [
    "history2 = lstm.fit(X_train, y_train, validation_data=(X_test, y_test), epochs=20, batch_size=256)"
   ]
  },
  {
   "cell_type": "code",
   "execution_count": 110,
   "metadata": {},
   "outputs": [],
   "source": [
    "# GRU Network\n",
    "from tensorflow.keras.layers import GRU\n",
    "\n",
    "gru = Sequential()\n",
    "gru.add(Embedding(vocab_size, embedding_vector_length, input_length=wordmax))\n",
    "gru.add(GRU(128))\n",
    "gru.add(Dense(1, activation='sigmoid'))\n",
    "gru.compile(loss='binary_crossentropy', optimizer='adam', metrics=['accuracy'])"
   ]
  },
  {
   "cell_type": "code",
   "execution_count": 111,
   "metadata": {},
   "outputs": [
    {
     "name": "stdout",
     "output_type": "stream",
     "text": [
      "Epoch 1/20\n",
      "WARNING:tensorflow:Model was constructed with shape (None, 80) for input Tensor(\"embedding_28_input:0\", shape=(None, 80), dtype=float32), but it was called on an input with incompatible shape (None, 34).\n",
      "WARNING:tensorflow:Model was constructed with shape (None, 80) for input Tensor(\"embedding_28_input:0\", shape=(None, 80), dtype=float32), but it was called on an input with incompatible shape (None, 34).\n",
      "2/3 [===================>..........] - ETA: 0s - loss: 0.6933 - accuracy: 0.5195WARNING:tensorflow:Model was constructed with shape (None, 80) for input Tensor(\"embedding_28_input:0\", shape=(None, 80), dtype=float32), but it was called on an input with incompatible shape (None, 34).\n",
      "3/3 [==============================] - 0s 100ms/step - loss: 0.6918 - accuracy: 0.5321 - val_loss: 0.7055 - val_accuracy: 0.4333\n",
      "Epoch 2/20\n",
      "3/3 [==============================] - 0s 40ms/step - loss: 0.6919 - accuracy: 0.5321 - val_loss: 0.7115 - val_accuracy: 0.4333\n",
      "Epoch 3/20\n",
      "3/3 [==============================] - 0s 40ms/step - loss: 0.6918 - accuracy: 0.5321 - val_loss: 0.7112 - val_accuracy: 0.4333\n",
      "Epoch 4/20\n",
      "3/3 [==============================] - 0s 40ms/step - loss: 0.6913 - accuracy: 0.5321 - val_loss: 0.7060 - val_accuracy: 0.4333\n",
      "Epoch 5/20\n",
      "3/3 [==============================] - 0s 40ms/step - loss: 0.6910 - accuracy: 0.5321 - val_loss: 0.7016 - val_accuracy: 0.4333\n",
      "Epoch 6/20\n",
      "3/3 [==============================] - 0s 39ms/step - loss: 0.6917 - accuracy: 0.5321 - val_loss: 0.6989 - val_accuracy: 0.4333\n",
      "Epoch 7/20\n",
      "3/3 [==============================] - 0s 40ms/step - loss: 0.6914 - accuracy: 0.5321 - val_loss: 0.6995 - val_accuracy: 0.4333\n",
      "Epoch 8/20\n",
      "3/3 [==============================] - 0s 40ms/step - loss: 0.6914 - accuracy: 0.5321 - val_loss: 0.7013 - val_accuracy: 0.4333\n",
      "Epoch 9/20\n",
      "3/3 [==============================] - 0s 40ms/step - loss: 0.6911 - accuracy: 0.5321 - val_loss: 0.7024 - val_accuracy: 0.4333\n",
      "Epoch 10/20\n",
      "3/3 [==============================] - 0s 40ms/step - loss: 0.6910 - accuracy: 0.5321 - val_loss: 0.7033 - val_accuracy: 0.4333\n",
      "Epoch 11/20\n",
      "3/3 [==============================] - 0s 42ms/step - loss: 0.6910 - accuracy: 0.5321 - val_loss: 0.7047 - val_accuracy: 0.4333\n",
      "Epoch 12/20\n",
      "3/3 [==============================] - 0s 40ms/step - loss: 0.6913 - accuracy: 0.5321 - val_loss: 0.7062 - val_accuracy: 0.4333\n",
      "Epoch 13/20\n",
      "3/3 [==============================] - 0s 43ms/step - loss: 0.6914 - accuracy: 0.5321 - val_loss: 0.7039 - val_accuracy: 0.4333\n",
      "Epoch 14/20\n",
      "3/3 [==============================] - 0s 41ms/step - loss: 0.6910 - accuracy: 0.5321 - val_loss: 0.7032 - val_accuracy: 0.4333\n",
      "Epoch 15/20\n",
      "3/3 [==============================] - 0s 41ms/step - loss: 0.6908 - accuracy: 0.5321 - val_loss: 0.7040 - val_accuracy: 0.4333\n",
      "Epoch 16/20\n",
      "3/3 [==============================] - 0s 42ms/step - loss: 0.6908 - accuracy: 0.5321 - val_loss: 0.7045 - val_accuracy: 0.4333\n",
      "Epoch 17/20\n",
      "3/3 [==============================] - 0s 42ms/step - loss: 0.6908 - accuracy: 0.5321 - val_loss: 0.7071 - val_accuracy: 0.4333\n",
      "Epoch 18/20\n",
      "3/3 [==============================] - 0s 40ms/step - loss: 0.6905 - accuracy: 0.5321 - val_loss: 0.7082 - val_accuracy: 0.4333\n",
      "Epoch 19/20\n",
      "3/3 [==============================] - 0s 39ms/step - loss: 0.6904 - accuracy: 0.5336 - val_loss: 0.7087 - val_accuracy: 0.4333\n",
      "Epoch 20/20\n",
      "3/3 [==============================] - 0s 41ms/step - loss: 0.6900 - accuracy: 0.5351 - val_loss: 0.7057 - val_accuracy: 0.4333\n"
     ]
    }
   ],
   "source": [
    "history3 = gru.fit(X_train, y_train, validation_data=(X_test, y_test), epochs=20, batch_size=256)"
   ]
  },
  {
   "cell_type": "code",
   "execution_count": null,
   "metadata": {},
   "outputs": [],
   "source": []
  }
 ],
 "metadata": {
  "kernelspec": {
   "display_name": "Python 3",
   "language": "python",
   "name": "python3"
  },
  "language_info": {
   "codemirror_mode": {
    "name": "ipython",
    "version": 3
   },
   "file_extension": ".py",
   "mimetype": "text/x-python",
   "name": "python",
   "nbconvert_exporter": "python",
   "pygments_lexer": "ipython3",
   "version": "3.7.5"
  }
 },
 "nbformat": 4,
 "nbformat_minor": 4
}
