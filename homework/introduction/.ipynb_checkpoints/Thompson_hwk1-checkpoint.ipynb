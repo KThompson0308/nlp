{
 "cells": [
  {
   "cell_type": "code",
   "execution_count": 71,
   "metadata": {},
   "outputs": [
    {
     "name": "stdout",
     "output_type": "stream",
     "text": [
      "The tensorboard extension is already loaded. To reload it, use:\n",
      "  %reload_ext tensorboard\n"
     ]
    }
   ],
   "source": [
    "%load_ext tensorboard\n",
    "from time import time\n",
    "import datetime\n",
    "import numpy as np\n",
    "import tensorflow as tf\n",
    "from tensorflow.keras import layers\n",
    "from tensorflow.keras.regularizers import l2\n",
    "from tensorflow.keras.callbacks import TensorBoard, EarlyStopping\n",
    "from sklearn.model_selection import train_test_split\n",
    "from sklearn import datasets"
   ]
  },
  {
   "cell_type": "markdown",
   "metadata": {},
   "source": [
    "# Classification"
   ]
  },
  {
   "cell_type": "code",
   "execution_count": 97,
   "metadata": {},
   "outputs": [],
   "source": [
    "digit = datasets.load_digits()\n",
    "data = digit['data']\n",
    "target = digit['target']\n",
    "x_train, x_test, y_train, y_test = train_test_split(data, target, test_size=0.2, random_state=8943)"
   ]
  },
  {
   "cell_type": "code",
   "execution_count": 98,
   "metadata": {},
   "outputs": [],
   "source": [
    "model1 = tf.keras.Sequential()\n",
    "model1.add(layers.Dense(100, activation='relu'))\n",
    "model1.add(layers.Dense(100, activation='relu'))\n",
    "model1.add(layers.Dense(10, activation='softmax'))"
   ]
  },
  {
   "cell_type": "code",
   "execution_count": 99,
   "metadata": {},
   "outputs": [],
   "source": [
    "model1.compile(optimizer=tf.optimizers.Adam(),\n",
    "             loss=tf.keras.losses.SparseCategoricalCrossentropy(),\n",
    "             metrics=['accuracy'])"
   ]
  },
  {
   "cell_type": "code",
   "execution_count": 100,
   "metadata": {},
   "outputs": [],
   "source": [
    "log_dir = \"logs/fit/\" + datetime.datetime.now().strftime(\"%Y%m%d-%H%M%S\")\n",
    "tb = TensorBoard(log_dir=log_dir, histogram_freq=1)\n",
    "es = EarlyStopping(monitor='val_loss', min_delta = 0.001, patience=10)\n"
   ]
  },
  {
   "cell_type": "code",
   "execution_count": 101,
   "metadata": {},
   "outputs": [
    {
     "name": "stdout",
     "output_type": "stream",
     "text": [
      "Epoch 1/200\n",
      "45/45 [==============================] - 0s 3ms/step - loss: 1.6850 - accuracy: 0.6117 - val_loss: 0.3709 - val_accuracy: 0.8972\n",
      "Epoch 2/200\n",
      "45/45 [==============================] - 0s 1ms/step - loss: 0.2671 - accuracy: 0.9130 - val_loss: 0.1911 - val_accuracy: 0.9333\n",
      "Epoch 3/200\n",
      "45/45 [==============================] - 0s 1ms/step - loss: 0.1589 - accuracy: 0.9548 - val_loss: 0.1678 - val_accuracy: 0.9556\n",
      "Epoch 4/200\n",
      "45/45 [==============================] - 0s 1ms/step - loss: 0.1054 - accuracy: 0.9687 - val_loss: 0.1219 - val_accuracy: 0.9667\n",
      "Epoch 5/200\n",
      "45/45 [==============================] - 0s 1ms/step - loss: 0.0714 - accuracy: 0.9812 - val_loss: 0.1226 - val_accuracy: 0.9611\n",
      "Epoch 6/200\n",
      "45/45 [==============================] - 0s 1ms/step - loss: 0.0489 - accuracy: 0.9882 - val_loss: 0.1000 - val_accuracy: 0.9667\n",
      "Epoch 7/200\n",
      "45/45 [==============================] - 0s 1ms/step - loss: 0.0374 - accuracy: 0.9930 - val_loss: 0.0973 - val_accuracy: 0.9667\n",
      "Epoch 8/200\n",
      "45/45 [==============================] - 0s 2ms/step - loss: 0.0295 - accuracy: 0.9965 - val_loss: 0.0690 - val_accuracy: 0.9833\n",
      "Epoch 9/200\n",
      "45/45 [==============================] - 0s 1ms/step - loss: 0.0235 - accuracy: 0.9965 - val_loss: 0.0842 - val_accuracy: 0.9694\n",
      "Epoch 10/200\n",
      "45/45 [==============================] - 0s 1ms/step - loss: 0.0178 - accuracy: 0.9979 - val_loss: 0.0880 - val_accuracy: 0.9667\n",
      "Epoch 11/200\n",
      "45/45 [==============================] - 0s 2ms/step - loss: 0.0106 - accuracy: 1.0000 - val_loss: 0.0823 - val_accuracy: 0.9722\n",
      "Epoch 12/200\n",
      "45/45 [==============================] - 0s 1ms/step - loss: 0.0094 - accuracy: 1.0000 - val_loss: 0.0686 - val_accuracy: 0.9750\n",
      "Epoch 13/200\n",
      "45/45 [==============================] - 0s 1ms/step - loss: 0.0085 - accuracy: 0.9993 - val_loss: 0.0781 - val_accuracy: 0.9750\n",
      "Epoch 14/200\n",
      "45/45 [==============================] - 0s 1ms/step - loss: 0.0065 - accuracy: 1.0000 - val_loss: 0.0756 - val_accuracy: 0.9806\n",
      "Epoch 15/200\n",
      "45/45 [==============================] - 0s 1ms/step - loss: 0.0053 - accuracy: 1.0000 - val_loss: 0.0766 - val_accuracy: 0.9750\n",
      "Epoch 16/200\n",
      "45/45 [==============================] - 0s 2ms/step - loss: 0.0050 - accuracy: 1.0000 - val_loss: 0.0859 - val_accuracy: 0.9722\n",
      "Epoch 17/200\n",
      "45/45 [==============================] - 0s 2ms/step - loss: 0.0040 - accuracy: 1.0000 - val_loss: 0.0737 - val_accuracy: 0.9750\n",
      "Epoch 18/200\n",
      "45/45 [==============================] - 0s 2ms/step - loss: 0.0035 - accuracy: 1.0000 - val_loss: 0.0737 - val_accuracy: 0.9750\n"
     ]
    },
    {
     "data": {
      "text/plain": [
       "<tensorflow.python.keras.callbacks.History at 0x7f0ea46fb990>"
      ]
     },
     "execution_count": 101,
     "metadata": {},
     "output_type": "execute_result"
    }
   ],
   "source": [
    "model1.fit(x_train, y_train, validation_data=(x_test, y_test), epochs=200, batch_size=32, callbacks = [tb, es])"
   ]
  },
  {
   "cell_type": "code",
   "execution_count": 103,
   "metadata": {
    "scrolled": true
   },
   "outputs": [
    {
     "data": {
      "text/plain": [
       "Reusing TensorBoard on port 6006 (pid 9068), started 0:37:20 ago. (Use '!kill 9068' to kill it.)"
      ]
     },
     "metadata": {},
     "output_type": "display_data"
    },
    {
     "data": {
      "text/html": [
       "\n",
       "      <iframe id=\"tensorboard-frame-42ac89a0de340140\" width=\"100%\" height=\"800\" frameborder=\"0\">\n",
       "      </iframe>\n",
       "      <script>\n",
       "        (function() {\n",
       "          const frame = document.getElementById(\"tensorboard-frame-42ac89a0de340140\");\n",
       "          const url = new URL(\"/\", window.location);\n",
       "          url.port = 6006;\n",
       "          frame.src = url;\n",
       "        })();\n",
       "      </script>\n",
       "  "
      ],
      "text/plain": [
       "<IPython.core.display.HTML object>"
      ]
     },
     "metadata": {},
     "output_type": "display_data"
    }
   ],
   "source": [
    "%tensorboard --logdir logs/fit"
   ]
  },
  {
   "cell_type": "markdown",
   "metadata": {},
   "source": [
    "I used my personal judgment on the right early stopping criteria for the neural network. Looking at the training/validation curves above, neither the training nor validation set seem to fluctuate more than 0.01 after about 8 epochs. Given that the performance is satisfactory and improvement has ceased, I determined that network was done training.\n",
    "\n",
    "Parameters were optimized according to trial and error. I found that using the ADAM optimizer with two relu layers and a softmax output layer led to better results than a series of sigmoid layers with SGD optimizer. Inspection of the layers found only a few dead nodes, although the histogram within the tensorboard above shows that the weights are symmetrically distributed around 0. The most striking feature for me is the degree of uniformity for the weights on -0.15 to 0.15 interval. "
   ]
  },
  {
   "cell_type": "markdown",
   "metadata": {},
   "source": [
    "# Regression"
   ]
  },
  {
   "cell_type": "code",
   "execution_count": 104,
   "metadata": {},
   "outputs": [],
   "source": [
    "dia = datasets.load_diabetes()\n",
    "data = dia['data']\n",
    "target = dia['target']\n",
    "x_train, x_test, y_train, y_test = train_test_split(data, target, test_size=0.2, random_state=8543)"
   ]
  },
  {
   "cell_type": "code",
   "execution_count": 105,
   "metadata": {},
   "outputs": [],
   "source": [
    "model2 = tf.keras.Sequential()\n",
    "model2.add(layers.Dense(100, activation='relu'))\n",
    "model2.add(layers.Dense(100, activation='relu'))\n",
    "model2.add(layers.Dense(1, activation = 'linear'))"
   ]
  },
  {
   "cell_type": "code",
   "execution_count": 112,
   "metadata": {},
   "outputs": [],
   "source": [
    "log_dir = \"logs2/fit/\" + datetime.datetime.now().strftime(\"%Y%m%d-%H%M%S\")\n",
    "tb = TensorBoard(log_dir=log_dir, histogram_freq=1)\n",
    "es = EarlyStopping(monitor='val_loss', min_delta = 50, patience=10)"
   ]
  },
  {
   "cell_type": "code",
   "execution_count": 113,
   "metadata": {},
   "outputs": [],
   "source": [
    "model2.compile(optimizer=tf.optimizers.Adam(),\n",
    "               loss=tf.keras.losses.MeanSquaredError(),\n",
    "               metrics=tf.keras.metrics.RootMeanSquaredError())"
   ]
  },
  {
   "cell_type": "code",
   "execution_count": 114,
   "metadata": {},
   "outputs": [
    {
     "name": "stdout",
     "output_type": "stream",
     "text": [
      "Epoch 1/200\n",
      "12/12 [==============================] - 0s 6ms/step - loss: 3146.6675 - root_mean_squared_error: 56.0952 - val_loss: 3421.7173 - val_root_mean_squared_error: 58.4954\n",
      "Epoch 2/200\n",
      "12/12 [==============================] - 0s 3ms/step - loss: 3135.1995 - root_mean_squared_error: 55.9929 - val_loss: 3445.9834 - val_root_mean_squared_error: 58.7025\n",
      "Epoch 3/200\n",
      "12/12 [==============================] - 0s 2ms/step - loss: 3138.6509 - root_mean_squared_error: 56.0237 - val_loss: 3432.0063 - val_root_mean_squared_error: 58.5833\n",
      "Epoch 4/200\n",
      "12/12 [==============================] - 0s 12ms/step - loss: 3101.5769 - root_mean_squared_error: 55.6918 - val_loss: 3373.2942 - val_root_mean_squared_error: 58.0801\n",
      "Epoch 5/200\n",
      "12/12 [==============================] - 0s 3ms/step - loss: 3069.6785 - root_mean_squared_error: 55.4047 - val_loss: 3367.1104 - val_root_mean_squared_error: 58.0268\n",
      "Epoch 6/200\n",
      "12/12 [==============================] - 0s 2ms/step - loss: 3060.2227 - root_mean_squared_error: 55.3193 - val_loss: 3343.1858 - val_root_mean_squared_error: 57.8203\n",
      "Epoch 7/200\n",
      "12/12 [==============================] - 0s 3ms/step - loss: 3052.8481 - root_mean_squared_error: 55.2526 - val_loss: 3331.5322 - val_root_mean_squared_error: 57.7194\n",
      "Epoch 8/200\n",
      "12/12 [==============================] - 0s 2ms/step - loss: 3049.3293 - root_mean_squared_error: 55.2207 - val_loss: 3321.3066 - val_root_mean_squared_error: 57.6308\n",
      "Epoch 9/200\n",
      "12/12 [==============================] - 0s 3ms/step - loss: 3026.4648 - root_mean_squared_error: 55.0133 - val_loss: 3319.5144 - val_root_mean_squared_error: 57.6152\n",
      "Epoch 10/200\n",
      "12/12 [==============================] - 0s 3ms/step - loss: 3027.2839 - root_mean_squared_error: 55.0208 - val_loss: 3327.2903 - val_root_mean_squared_error: 57.6827\n",
      "Epoch 11/200\n",
      "12/12 [==============================] - 0s 3ms/step - loss: 3022.0864 - root_mean_squared_error: 54.9735 - val_loss: 3313.7297 - val_root_mean_squared_error: 57.5650\n",
      "Epoch 12/200\n",
      "12/12 [==============================] - 0s 2ms/step - loss: 3012.6484 - root_mean_squared_error: 54.8876 - val_loss: 3301.7378 - val_root_mean_squared_error: 57.4608\n",
      "Epoch 13/200\n",
      "12/12 [==============================] - 0s 3ms/step - loss: 3007.5969 - root_mean_squared_error: 54.8416 - val_loss: 3316.3228 - val_root_mean_squared_error: 57.5875\n",
      "Epoch 14/200\n",
      "12/12 [==============================] - 0s 3ms/step - loss: 2989.0833 - root_mean_squared_error: 54.6725 - val_loss: 3291.1355 - val_root_mean_squared_error: 57.3684\n",
      "Epoch 15/200\n",
      "12/12 [==============================] - 0s 3ms/step - loss: 3016.5376 - root_mean_squared_error: 54.9230 - val_loss: 3293.8213 - val_root_mean_squared_error: 57.3918\n",
      "Epoch 16/200\n",
      "12/12 [==============================] - 0s 3ms/step - loss: 3000.1218 - root_mean_squared_error: 54.7734 - val_loss: 3278.3918 - val_root_mean_squared_error: 57.2572\n",
      "Epoch 17/200\n",
      "12/12 [==============================] - 0s 2ms/step - loss: 2988.2263 - root_mean_squared_error: 54.6647 - val_loss: 3288.7434 - val_root_mean_squared_error: 57.3476\n",
      "Epoch 18/200\n",
      "12/12 [==============================] - 0s 3ms/step - loss: 2985.4922 - root_mean_squared_error: 54.6397 - val_loss: 3291.5801 - val_root_mean_squared_error: 57.3723\n",
      "Epoch 19/200\n",
      "12/12 [==============================] - 0s 3ms/step - loss: 2972.2085 - root_mean_squared_error: 54.5180 - val_loss: 3266.7612 - val_root_mean_squared_error: 57.1556\n",
      "Epoch 20/200\n",
      "12/12 [==============================] - 0s 2ms/step - loss: 2973.0071 - root_mean_squared_error: 54.5253 - val_loss: 3252.9810 - val_root_mean_squared_error: 57.0349\n",
      "Epoch 21/200\n",
      "12/12 [==============================] - 0s 3ms/step - loss: 2961.7651 - root_mean_squared_error: 54.4221 - val_loss: 3249.0471 - val_root_mean_squared_error: 57.0004\n",
      "Epoch 22/200\n",
      "12/12 [==============================] - 0s 3ms/step - loss: 2960.9463 - root_mean_squared_error: 54.4146 - val_loss: 3272.7566 - val_root_mean_squared_error: 57.2080\n",
      "Epoch 23/200\n",
      "12/12 [==============================] - 0s 3ms/step - loss: 2963.7952 - root_mean_squared_error: 54.4408 - val_loss: 3245.4270 - val_root_mean_squared_error: 56.9687\n",
      "Epoch 24/200\n",
      "12/12 [==============================] - 0s 3ms/step - loss: 2948.3193 - root_mean_squared_error: 54.2984 - val_loss: 3227.7773 - val_root_mean_squared_error: 56.8135\n",
      "Epoch 25/200\n",
      "12/12 [==============================] - 0s 3ms/step - loss: 2977.5549 - root_mean_squared_error: 54.5670 - val_loss: 3250.3237 - val_root_mean_squared_error: 57.0116\n",
      "Epoch 26/200\n",
      "12/12 [==============================] - 0s 3ms/step - loss: 2969.7031 - root_mean_squared_error: 54.4950 - val_loss: 3224.1931 - val_root_mean_squared_error: 56.7820\n",
      "Epoch 27/200\n",
      "12/12 [==============================] - 0s 3ms/step - loss: 2938.6125 - root_mean_squared_error: 54.2090 - val_loss: 3220.3799 - val_root_mean_squared_error: 56.7484\n",
      "Epoch 28/200\n",
      "12/12 [==============================] - 0s 2ms/step - loss: 2928.2195 - root_mean_squared_error: 54.1130 - val_loss: 3218.4360 - val_root_mean_squared_error: 56.7313\n",
      "Epoch 29/200\n",
      "12/12 [==============================] - 0s 2ms/step - loss: 2934.8838 - root_mean_squared_error: 54.1746 - val_loss: 3220.0530 - val_root_mean_squared_error: 56.7455\n",
      "Epoch 30/200\n",
      "12/12 [==============================] - 0s 3ms/step - loss: 2938.4604 - root_mean_squared_error: 54.2076 - val_loss: 3219.5266 - val_root_mean_squared_error: 56.7409\n"
     ]
    },
    {
     "data": {
      "text/plain": [
       "<tensorflow.python.keras.callbacks.History at 0x7f0ea431f350>"
      ]
     },
     "execution_count": 114,
     "metadata": {},
     "output_type": "execute_result"
    }
   ],
   "source": [
    "model2.fit(x_train, y_train, validation_data=(x_test, y_test), epochs=200, batch_size=32, callbacks = [tb, es])"
   ]
  },
  {
   "cell_type": "markdown",
   "metadata": {},
   "source": [
    "The approach to choosing the hyperparameters was more straightforward for this task. I found that relu performed quite well, as is displayed in the training/validation curves below. The histograms this time do not display the strange uniformity or symmetry of the previous network. Based on the scale of the units, I decided that an early stopping criteria for this model would be a minimum delta of 50."
   ]
  },
  {
   "cell_type": "code",
   "execution_count": 115,
   "metadata": {},
   "outputs": [
    {
     "data": {
      "text/plain": [
       "Reusing TensorBoard on port 6007 (pid 16647), started 0:04:54 ago. (Use '!kill 16647' to kill it.)"
      ]
     },
     "metadata": {},
     "output_type": "display_data"
    },
    {
     "data": {
      "text/html": [
       "\n",
       "      <iframe id=\"tensorboard-frame-ca3139377771fe7c\" width=\"100%\" height=\"800\" frameborder=\"0\">\n",
       "      </iframe>\n",
       "      <script>\n",
       "        (function() {\n",
       "          const frame = document.getElementById(\"tensorboard-frame-ca3139377771fe7c\");\n",
       "          const url = new URL(\"/\", window.location);\n",
       "          url.port = 6007;\n",
       "          frame.src = url;\n",
       "        })();\n",
       "      </script>\n",
       "  "
      ],
      "text/plain": [
       "<IPython.core.display.HTML object>"
      ]
     },
     "metadata": {},
     "output_type": "display_data"
    }
   ],
   "source": [
    "%tensorboard --logdir logs2/fit"
   ]
  },
  {
   "cell_type": "markdown",
   "metadata": {},
   "source": [
    "# Webscraping"
   ]
  },
  {
   "cell_type": "code",
   "execution_count": 29,
   "metadata": {},
   "outputs": [],
   "source": [
    "from selenium import webdriver"
   ]
  },
  {
   "cell_type": "code",
   "execution_count": 98,
   "metadata": {},
   "outputs": [],
   "source": [
    "def gettop100():\n",
    "    driver = webdriver.Chrome()\n",
    "    driver.get(\"https://www.billboard.com/charts/hot-100\")\n",
    "    top = driver.find_elements_by_class_name('chart-element__wrapper')\n",
    "    \n",
    "    for idx in range(len(top)):\n",
    "        top[idx] = top[idx].text.replace('\\n', ' ')\n",
    "        temp = top[idx].split('-',1)\n",
    "        temp = temp[0].split('+',1)\n",
    "        temp = temp[0].replace('Failing','').replace('New', '').replace('Rising','')\n",
    "        top[idx] = temp\n",
    "    driver.close()\n",
    "\n",
    "    return top"
   ]
  },
  {
   "cell_type": "code",
   "execution_count": 99,
   "metadata": {},
   "outputs": [
    {
     "data": {
      "text/plain": [
       "['1  The Scotts THE SCOTTS, Travis Scott & Kid Cudi ',\n",
       " '2  Blinding Lights The Weeknd ',\n",
       " '3  Toosie Slide Drake ',\n",
       " '4  Savage Megan Thee Stallion Featuring Beyonce ',\n",
       " '5  The Box Roddy Ricch ',\n",
       " '6  Say So Doja Cat Featuring Nicki Minaj ',\n",
       " \"7  Don't Start Now Dua Lipa \",\n",
       " '8  Circles Post Malone ',\n",
       " '9  Intentions Justin Bieber Featuring Quavo ',\n",
       " '10  Adore You Harry Styles ',\n",
       " '11  Righteous Juice WRLD ',\n",
       " '12  Life Is Good Future Featuring Drake ',\n",
       " '13  My Oh My Camila Cabello Featuring DaBaby ',\n",
       " '14  Rockstar DaBaby Featuring Roddy Ricch ',\n",
       " '15  The Bones Maren Morris ',\n",
       " '16  Everything I Wanted Billie Eilish ',\n",
       " '17  Someone You Loved Lewis Capaldi ',\n",
       " '18  Nobody But You Blake Shelton Duet With Gwen Stefani ',\n",
       " '19  I Hope Gabby Barrett ',\n",
       " '20  Blueberry Faygo Lil Mosey ',\n",
       " '21  Memories Maroon 5 ',\n",
       " \"22  Chasin' You Morgan Wallen \",\n",
       " '23  Roses (Imanbek Remix) SAINt JHN ',\n",
       " '24  Falling Trevor Daniel ',\n",
       " '25 Steady High Fashion Roddy Ricch Featuring Mustard ',\n",
       " '26  Death Bed Powfu Featuring beabadoobee ',\n",
       " '27  Hot Girl Bummer blackbear ',\n",
       " '28  Sunday Best Surfaces ',\n",
       " '29  RITMO (Bad Boys For Life) The Black Eyed Peas X J Balvin ',\n",
       " '30  Does To Me Luke Combs Featuring Eric Church ',\n",
       " '31  Heart On Ice Rod Wave ',\n",
       " \"32 Steady Ballin' Mustard & Roddy Ricch \",\n",
       " '33  Roxanne Arizona Zervas ',\n",
       " '34  Dance Monkey Tones And I ',\n",
       " '35  Whats Poppin Jack Harlow ',\n",
       " '36  Break My Heart Dua Lipa ',\n",
       " '37  Heartless The Weeknd ',\n",
       " '38 Re',\n",
       " \"39  I Hope You're Happy Now Carly Pearce & Lee Brice \",\n",
       " \"40  Beer Can't Fix Thomas Rhett Featuring Jon Pardi \",\n",
       " '41  Level Of Concern twenty one pilots ',\n",
       " '42 Steady I Love Me Demi Lovato ',\n",
       " '43  More Hearts Than Mine Ingrid Andress ',\n",
       " '44  After A Few Travis Denning ',\n",
       " '45  All In Lil Baby ',\n",
       " '46  10,000 Hours Dan ',\n",
       " '47  Hard To Forget Sam Hunt ',\n",
       " '48  Supalonely BENEE Featuring Gus Dapperton ',\n",
       " '49 Re',\n",
       " '50  Before You Go Lewis Capaldi ',\n",
       " '51  In Your Eyes The Weeknd ',\n",
       " '52  Dior Pop Smoke ',\n",
       " '53  Sum 2 Prove Lil Baby ',\n",
       " '54  Slide H.E.R. Featuring YG ',\n",
       " '55  Catch Brett Young ',\n",
       " '56  Walk Em Down NLE Choppa Featuring Roddy Ricch ',\n",
       " '57  Heartless Diplo Presents Thomas Wesley Featuring Morgan Wallen ',\n",
       " '58  Jump DaBaby Featuring YoungBoy Never Broke Again ',\n",
       " '59  If The World Was Ending JP Saxe Featuring Julia Michaels ',\n",
       " '60  Out West JACKBOYS Featuring Young Thug ',\n",
       " '61  Stupid Love Lady Gaga ',\n",
       " '62  Yo Perreo Sola Bad Bunny ',\n",
       " \"63  I'm Ready Sam Smith & Demi Lovato \",\n",
       " '64  P*$$y Fairy (OTW) Jhene Aiko ',\n",
       " '65  Sasuke Lil Uzi Vert ',\n",
       " '66 Steady Godzilla Eminem Featuring Juice WRLD ',\n",
       " '67  Find My Way DaBaby ',\n",
       " '68  Cool Again Kane Brown ',\n",
       " '69  Believe It PARTYNEXTDOOR & Rihanna ',\n",
       " '70  Bluebird Miranda Lambert ',\n",
       " '71  Emotionally Scarred Lil Baby ',\n",
       " '72  You Should Be Sad Halsey ',\n",
       " '73  Here And Now Kenny Chesney ',\n",
       " '74  Turks NAV, Gunna & Travis Scott ',\n",
       " '75  Be A Light Thomas Rhett Featuring Reba McEntire, Hillary Scott, Chris Tomlin & Keith Urban ',\n",
       " '76  Slow Dance In A Parking Lot Jordan Davis ',\n",
       " '77  Come Thru Summer Walker & Usher ',\n",
       " '78  After Party Don Toliver ',\n",
       " '79  Homemade Jake Owen ',\n",
       " '80  Ride It. Regard ',\n",
       " '81  God Whispered Your Name Keith Urban ',\n",
       " '82  In Between Scotty McCreery ',\n",
       " \"83  Ain't Easy YoungBoy Never Broke Again \",\n",
       " '84  Party Girl StaySolidRocky ',\n",
       " '85  Die From A Broken Heart Maddie & Tae ',\n",
       " '86  Diamonds YoungBoy Never Broke Again ',\n",
       " '87  Myron Lil Uzi Vert ',\n",
       " '88  July Noah Cyrus & Leon Bridges ',\n",
       " '89  Captain Hook Megan Thee Stallion ',\n",
       " '90  Bout My Business YoungBoy Never Broke Again Featuring Sherhonda Gaulden ',\n",
       " '91 Steady That Way Lil Uzi Vert ',\n",
       " '92  Rough Ryder YoungBoy Never Broke Again ',\n",
       " '93 Re',\n",
       " '94 Re',\n",
       " '95 Re',\n",
       " '96  NASTY DaBaby Featuring Ashanti & Megan Thee Stallion ',\n",
       " '97  Drinking Alone Carrie Underwood ',\n",
       " '98 Steady PTSD G Herbo Featuring Chance The Rapper, Juice WRLD & Lil Uzi Vert ',\n",
       " '99  Thug Of Spades YoungBoy Never Broke Again Featuring DaBaby ',\n",
       " '100  Safaera Bad Bunny, Jowell & Randy & Nengo Flow ']"
      ]
     },
     "execution_count": 99,
     "metadata": {},
     "output_type": "execute_result"
    }
   ],
   "source": [
    "gettop100()"
   ]
  },
  {
   "cell_type": "code",
   "execution_count": null,
   "metadata": {},
   "outputs": [],
   "source": []
  }
 ],
 "metadata": {
  "kernelspec": {
   "display_name": "Python 3",
   "language": "python",
   "name": "python3"
  },
  "language_info": {
   "codemirror_mode": {
    "name": "ipython",
    "version": 3
   },
   "file_extension": ".py",
   "mimetype": "text/x-python",
   "name": "python",
   "nbconvert_exporter": "python",
   "pygments_lexer": "ipython3",
   "version": "3.7.5"
  }
 },
 "nbformat": 4,
 "nbformat_minor": 4
}
